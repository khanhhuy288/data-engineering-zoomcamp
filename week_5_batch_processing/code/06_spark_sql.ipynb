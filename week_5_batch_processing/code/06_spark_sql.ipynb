{
 "cells": [
  {
   "cell_type": "code",
   "execution_count": 1,
   "id": "6187c9bc-dd89-4a87-b6e6-51c1255f3fcd",
   "metadata": {
    "tags": []
   },
   "outputs": [],
   "source": [
    "import pyspark\n",
    "from pyspark.sql import SparkSession\n",
    "from pyspark.sql import functions as F"
   ]
  },
  {
   "cell_type": "code",
   "execution_count": 2,
   "id": "3307b886",
   "metadata": {
    "tags": []
   },
   "outputs": [
    {
     "name": "stdout",
     "output_type": "stream",
     "text": [
      "23/03/05 00:13:50 WARN Utils: Your hostname, Huys-MBP.local resolves to a loopback address: 127.0.0.1; using 192.168.0.102 instead (on interface en7)\n",
      "23/03/05 00:13:50 WARN Utils: Set SPARK_LOCAL_IP if you need to bind to another address\n"
     ]
    },
    {
     "name": "stderr",
     "output_type": "stream",
     "text": [
      "Setting default log level to \"WARN\".\n",
      "To adjust logging level use sc.setLogLevel(newLevel). For SparkR, use setLogLevel(newLevel).\n"
     ]
    },
    {
     "name": "stdout",
     "output_type": "stream",
     "text": [
      "23/03/05 00:13:50 WARN NativeCodeLoader: Unable to load native-hadoop library for your platform... using builtin-java classes where applicable\n"
     ]
    }
   ],
   "source": [
    "spark = SparkSession.builder \\\n",
    "    .master(\"local[*]\") \\\n",
    "    .appName('test') \\\n",
    "    .getOrCreate()\n",
    "\n",
    "# spark = SparkSession.builder \\\n",
    "#     .master(\"spark://localhost:7077\") \\\n",
    "#     .appName('test') \\\n",
    "#     .getOrCreate()"
   ]
  },
  {
   "cell_type": "code",
   "execution_count": 3,
   "id": "1ee1eb1d",
   "metadata": {
    "tags": []
   },
   "outputs": [
    {
     "name": "stderr",
     "output_type": "stream",
     "text": [
      "                                                                                \r"
     ]
    }
   ],
   "source": [
    "df_green = spark.read.parquet('data/raw/green/*/*')"
   ]
  },
  {
   "cell_type": "code",
   "execution_count": 4,
   "id": "649bb4da",
   "metadata": {
    "tags": []
   },
   "outputs": [],
   "source": [
    "df_green = df_green \\\n",
    "    .withColumnRenamed('lpep_pickup_datetime', 'pickup_datetime') \\\n",
    "    .withColumnRenamed('lpep_dropoff_datetime', 'dropoff_datetime')"
   ]
  },
  {
   "cell_type": "code",
   "execution_count": 5,
   "id": "90cd6845",
   "metadata": {
    "tags": []
   },
   "outputs": [],
   "source": [
    "df_yellow = spark.read.parquet('data/raw/yellow/*/*')"
   ]
  },
  {
   "cell_type": "code",
   "execution_count": 6,
   "id": "88822efd",
   "metadata": {
    "tags": []
   },
   "outputs": [],
   "source": [
    "df_yellow = df_yellow \\\n",
    "    .withColumnRenamed('tpep_pickup_datetime', 'pickup_datetime') \\\n",
    "    .withColumnRenamed('tpep_dropoff_datetime', 'dropoff_datetime')"
   ]
  },
  {
   "cell_type": "code",
   "execution_count": 7,
   "id": "610167a2",
   "metadata": {
    "tags": []
   },
   "outputs": [],
   "source": [
    "common_columns = []\n",
    "\n",
    "yellow_columns = set(df_yellow.columns)\n",
    "\n",
    "for col in df_green.columns:\n",
    "    if col in yellow_columns:\n",
    "        common_columns.append(col)"
   ]
  },
  {
   "cell_type": "code",
   "execution_count": 9,
   "id": "2498810a",
   "metadata": {
    "tags": []
   },
   "outputs": [],
   "source": [
    "df_green_sel = df_green \\\n",
    "    .select(common_columns) \\\n",
    "    .withColumn('service_type', F.lit('green'))"
   ]
  },
  {
   "cell_type": "code",
   "execution_count": 11,
   "id": "19032efc",
   "metadata": {
    "tags": []
   },
   "outputs": [],
   "source": [
    "df_yellow_sel = df_yellow \\\n",
    "    .select(common_columns) \\\n",
    "    .withColumn('service_type', F.lit('yellow'))"
   ]
  },
  {
   "cell_type": "code",
   "execution_count": 12,
   "id": "f5b0f3d1",
   "metadata": {
    "tags": []
   },
   "outputs": [],
   "source": [
    "df_trips_data = df_green_sel.unionAll(df_yellow_sel)"
   ]
  },
  {
   "cell_type": "code",
   "execution_count": 13,
   "id": "1bed8b33",
   "metadata": {
    "tags": []
   },
   "outputs": [
    {
     "name": "stderr",
     "output_type": "stream",
     "text": [
      "[Stage 2:======================================================>  (20 + 1) / 21]\r"
     ]
    },
    {
     "name": "stdout",
     "output_type": "stream",
     "text": [
      "+------------+--------+\n",
      "|service_type|   count|\n",
      "+------------+--------+\n",
      "|       green| 2802931|\n",
      "|      yellow|55553400|\n",
      "+------------+--------+\n",
      "\n"
     ]
    },
    {
     "name": "stderr",
     "output_type": "stream",
     "text": [
      "                                                                                \r"
     ]
    }
   ],
   "source": [
    "df_trips_data.groupBy('service_type').count().show()"
   ]
  },
  {
   "cell_type": "code",
   "execution_count": 40,
   "id": "28cc8fa3",
   "metadata": {},
   "outputs": [
    {
     "data": {
      "text/plain": [
       "['VendorID',\n",
       " 'pickup_datetime',\n",
       " 'dropoff_datetime',\n",
       " 'store_and_fwd_flag',\n",
       " 'RatecodeID',\n",
       " 'PULocationID',\n",
       " 'DOLocationID',\n",
       " 'passenger_count',\n",
       " 'trip_distance',\n",
       " 'fare_amount',\n",
       " 'extra',\n",
       " 'mta_tax',\n",
       " 'tip_amount',\n",
       " 'tolls_amount',\n",
       " 'improvement_surcharge',\n",
       " 'total_amount',\n",
       " 'payment_type',\n",
       " 'congestion_surcharge',\n",
       " 'service_type']"
      ]
     },
     "execution_count": 40,
     "metadata": {},
     "output_type": "execute_result"
    }
   ],
   "source": [
    "df_trips_data.columns"
   ]
  },
  {
   "cell_type": "code",
   "execution_count": 23,
   "id": "36e90cbc",
   "metadata": {
    "tags": []
   },
   "outputs": [],
   "source": [
    "df_trips_data.createOrReplaceTempView('trips_data')"
   ]
  },
  {
   "cell_type": "code",
   "execution_count": 24,
   "id": "d0e01bf1",
   "metadata": {
    "tags": []
   },
   "outputs": [
    {
     "name": "stdout",
     "output_type": "stream",
     "text": [
      "+------------+--------+\n",
      "|service_type|count(1)|\n",
      "+------------+--------+\n",
      "|       green| 2802931|\n",
      "|      yellow|55553400|\n",
      "+------------+--------+\n",
      "\n"
     ]
    },
    {
     "name": "stderr",
     "output_type": "stream",
     "text": [
      "                                                                                \r"
     ]
    }
   ],
   "source": [
    "spark.sql(\"\"\"\n",
    "SELECT\n",
    "    service_type,\n",
    "    count(1)\n",
    "FROM\n",
    "    trips_data\n",
    "GROUP BY \n",
    "    service_type\n",
    "\"\"\").show()"
   ]
  },
  {
   "cell_type": "code",
   "execution_count": 25,
   "id": "b2ee7038",
   "metadata": {
    "tags": []
   },
   "outputs": [],
   "source": [
    "df_result = spark.sql(\"\"\"\n",
    "SELECT \n",
    "    -- Reveneue grouping \n",
    "    PULocationID AS revenue_zone,\n",
    "    date_trunc('month', pickup_datetime) AS revenue_month, \n",
    "    service_type, \n",
    "\n",
    "    -- Revenue calculation \n",
    "    SUM(fare_amount) AS revenue_monthly_fare,\n",
    "    SUM(extra) AS revenue_monthly_extra,\n",
    "    SUM(mta_tax) AS revenue_monthly_mta_tax,\n",
    "    SUM(tip_amount) AS revenue_monthly_tip_amount,\n",
    "    SUM(tolls_amount) AS revenue_monthly_tolls_amount,\n",
    "    SUM(improvement_surcharge) AS revenue_monthly_improvement_surcharge,\n",
    "    SUM(total_amount) AS revenue_monthly_total_amount,\n",
    "    SUM(congestion_surcharge) AS revenue_monthly_congestion_surcharge,\n",
    "\n",
    "    -- Additional calculations\n",
    "    AVG(passenger_count) AS avg_montly_passenger_count,\n",
    "    AVG(trip_distance) AS avg_montly_trip_distance\n",
    "FROM\n",
    "    trips_data\n",
    "GROUP BY\n",
    "    1, 2, 3\n",
    "\"\"\")"
   ]
  },
  {
   "cell_type": "code",
   "execution_count": 28,
   "id": "233ef86b-f846-41ce-8311-29e4f4fefbf5",
   "metadata": {
    "tags": []
   },
   "outputs": [
    {
     "name": "stderr",
     "output_type": "stream",
     "text": [
      "[Stage 16:=====================================================>  (20 + 1) / 21]\r"
     ]
    },
    {
     "name": "stdout",
     "output_type": "stream",
     "text": [
      "+------------+-------------------+------------+--------------------+---------------------+-----------------------+--------------------------+----------------------------+-------------------------------------+----------------------------+------------------------------------+--------------------------+------------------------+\n",
      "|revenue_zone|      revenue_month|service_type|revenue_monthly_fare|revenue_monthly_extra|revenue_monthly_mta_tax|revenue_monthly_tip_amount|revenue_monthly_tolls_amount|revenue_monthly_improvement_surcharge|revenue_monthly_total_amount|revenue_monthly_congestion_surcharge|avg_montly_passenger_count|avg_montly_trip_distance|\n",
      "+------------+-------------------+------------+--------------------+---------------------+-----------------------+--------------------------+----------------------------+-------------------------------------+----------------------------+------------------------------------+--------------------------+------------------------+\n",
      "|          72|2020-02-01 00:00:00|       green|   26866.74000000013|              2483.25|                  187.5|         76.25000000000001|          404.11000000000024|                   300.30000000000564|           30327.89999999991|                                 0.0|        1.1813725490196079|       184.6297354014599|\n",
      "|         173|2020-01-01 00:00:00|       green|  15805.270000000004|                860.0|                  375.0|        262.90999999999997|           384.5300000000002|                    296.1000000000055|           18010.50999999994|                               30.25|        1.4265463917525774|      3.2089095992544268|\n",
      "|         197|2020-01-01 00:00:00|       green|   43522.34999999998|               1847.0|                  336.5|        126.97999999999999|            2301.05999999998|                    380.7000000000087|           48537.99000000016|                                16.5|        1.1779816513761467|       8.524692653673167|\n",
      "|         178|2020-01-01 00:00:00|       green|   4800.800000000001|               266.25|                   40.5|                      4.16|          124.46000000000002|                   50.699999999999875|                     5288.82|                                 0.0|        1.2682926829268293|        4.15822966507177|\n",
      "|         204|2020-01-01 00:00:00|       green|               93.45|                 2.75|                    0.5|                       0.0|                        23.5|                                  0.3|                       120.5|                                null|                      null|                   44.47|\n",
      "|         124|2020-02-01 00:00:00|       green|  5373.2199999999975|                396.0|                   28.5|                       4.0|           93.30000000000001|                    53.39999999999985|           5948.420000000005|                                 0.0|        1.1363636363636365|       7.019005524861883|\n",
      "|          89|2020-01-01 00:00:00|       green|  53814.319999999796|              3609.75|                  545.5|                    413.19|          1059.2199999999996|                    612.2999999999985|           60147.17999999996|                                55.0|          1.21483771251932|       4.773319130805284|\n",
      "|          95|2020-01-01 00:00:00|       green|  165173.62000000203|               8048.0|                 6066.5|        13395.030000000004|           2529.819999999975|                   3994.8000000009615|          199904.46999999552|                               722.5|         1.375327868852459|       2.789445756457564|\n",
      "|          93|2020-01-01 00:00:00|       green|  3942.7300000000014|                132.5|                   51.0|                     85.04|                       73.44|                    46.79999999999991|                     4341.71|                                8.25|        1.3392857142857142|      5.8942073170731675|\n",
      "|         151|2020-01-01 00:00:00|       green|   4614.640000000001|                347.5|                   26.5|                       0.0|          252.68000000000012|                    53.09999999999985|           5294.420000000004|                                 0.0|                       1.0|       6.696448087431697|\n",
      "|         216|2020-02-01 00:00:00|       green|   19759.16000000006|               1245.0|                  110.5|        102.96000000000001|          424.25000000000034|                    195.3000000000017|          21844.620000000054|                                 5.5|        1.1793893129770991|       6.684106351550964|\n",
      "|           7|2020-01-01 00:00:00|       green|  168776.27999999753|               7909.5|                 7426.0|        12925.489999999965|          1746.7599999999882|                    4719.900000001401|          206913.72999998392|                             3448.25|        1.4406937958639092|      2.2930922990162346|\n",
      "|         234|2020-01-01 00:00:00|       green|  1704.1299999999997|               140.25|                    4.0|                       0.0|           79.55999999999999|                   15.900000000000016|          1943.8399999999992|                                null|                      null|       9.022830188679244|\n",
      "|         152|2020-01-01 00:00:00|       green|   38142.35000000001|               1489.5|                 1405.0|         2739.770000000003|           575.6300000000002|                    904.1999999999542|           46453.44999999999|                              1438.0|        1.1746755524377412|      2.8626239536381255|\n",
      "|         212|2020-01-01 00:00:00|       green|  22734.490000000133|               1488.0|                  313.5|        341.23000000000013|          1061.5600000000002|                   309.00000000000597|          26266.230000000083|                               19.25|         1.352622061482821|       4.687838297872343|\n",
      "|         145|2020-02-01 00:00:00|       green|   35221.56000000002|               1370.0|                 1153.5|        4075.7599999999975|          1502.1099999999924|                    769.1999999999747|           45451.12999999956|                             1509.75|        1.4779064779064779|      5.5238493883792055|\n",
      "|         223|2020-01-01 00:00:00|       green|  60100.110000000044|               3078.5|                 2571.5|         6617.789999999969|           1123.699999999999|                   1639.7999999998428|           75704.55000000384|                              514.25|        1.5236349604476171|      2.3621940163191266|\n",
      "|         226|2020-01-01 00:00:00|       green|   53546.43000000002|              2554.75|                 1081.0|        1896.1999999999996|          1424.3799999999937|                     839.699999999964|           62068.75999999882|                               819.5|        1.3128329297820822|       4.281948717948722|\n",
      "|          34|2020-01-01 00:00:00|       green|  1989.7399999999993|               134.75|                   57.5|                    216.14|                         0.0|                                 37.5|          2508.4299999999994|                               46.75|        1.3714285714285714|       3.914740740740741|\n",
      "|         253|2020-01-01 00:00:00|       green|              582.21|                 20.0|                    7.5|                     11.26|                       18.36|                    4.799999999999999|           644.1300000000001|                                 0.0|        1.3333333333333333|       8.487894736842106|\n",
      "+------------+-------------------+------------+--------------------+---------------------+-----------------------+--------------------------+----------------------------+-------------------------------------+----------------------------+------------------------------------+--------------------------+------------------------+\n",
      "only showing top 20 rows\n",
      "\n"
     ]
    },
    {
     "name": "stderr",
     "output_type": "stream",
     "text": [
      "                                                                                \r"
     ]
    }
   ],
   "source": [
    "df_result.show()"
   ]
  },
  {
   "cell_type": "code",
   "execution_count": 27,
   "id": "f67eeb92",
   "metadata": {
    "tags": []
   },
   "outputs": [
    {
     "name": "stderr",
     "output_type": "stream",
     "text": [
      "                                                                                \r"
     ]
    }
   ],
   "source": [
    "df_result.coalesce(1).write.parquet('data/report/revenue/', mode='overwrite')"
   ]
  },
  {
   "cell_type": "code",
   "execution_count": null,
   "id": "f56a885d",
   "metadata": {},
   "outputs": [],
   "source": []
  }
 ],
 "metadata": {
  "kernelspec": {
   "display_name": "Python 3 (ipykernel)",
   "language": "python",
   "name": "python3"
  },
  "language_info": {
   "codemirror_mode": {
    "name": "ipython",
    "version": 3
   },
   "file_extension": ".py",
   "mimetype": "text/x-python",
   "name": "python",
   "nbconvert_exporter": "python",
   "pygments_lexer": "ipython3",
   "version": "3.10.10"
  }
 },
 "nbformat": 4,
 "nbformat_minor": 5
}
